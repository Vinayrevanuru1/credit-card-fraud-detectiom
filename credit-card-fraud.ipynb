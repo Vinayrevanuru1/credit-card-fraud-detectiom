{
 "cells": [
  {
   "cell_type": "code",
   "execution_count": 1,
   "id": "1fc86430",
   "metadata": {
    "_cell_guid": "b1076dfc-b9ad-4769-8c92-a6c4dae69d19",
    "_uuid": "8f2839f25d086af736a60e9eeb907d3b93b6e0e5",
    "execution": {
     "iopub.execute_input": "2023-10-29T02:17:32.569523Z",
     "iopub.status.busy": "2023-10-29T02:17:32.569051Z",
     "iopub.status.idle": "2023-10-29T02:17:33.901271Z",
     "shell.execute_reply": "2023-10-29T02:17:33.900454Z"
    },
    "papermill": {
     "duration": 1.342918,
     "end_time": "2023-10-29T02:17:33.903124",
     "exception": false,
     "start_time": "2023-10-29T02:17:32.560206",
     "status": "completed"
    },
    "tags": []
   },
   "outputs": [],
   "source": [
    "# This Python 3 environment comes with many helpful analytics libraries installed\n",
    "# It is defined by the kaggle/python Docker image: https://github.com/kaggle/docker-python\n",
    "# For example, here's several helpful packages to load\n",
    "\n",
    "import numpy as np # linear algebra\n",
    "import pandas as pd # data processing, CSV file I/O (e.g. pd.read_csv)\n",
    "import matplotlib.pyplot as plt\n",
    "import seaborn as sns\n",
    "\n",
    "# Input data files are available in the read-only \"../input/\" directory\n",
    "# For example, running this (by clicking run or pressing Shift+Enter) will list all files under the input directory\n",
    "\n",
    "# You can write up to 20GB to the current directory (/kaggle/working/) that gets preserved as output when you create a version using \"Save & Run All\" \n",
    "# You can also write temporary files to /kaggle/temp/, but they won't be saved outside of the current session"
   ]
  },
  {
   "cell_type": "code",
   "execution_count": 2,
   "id": "f1799c3c",
   "metadata": {
    "execution": {
     "iopub.execute_input": "2023-10-29T02:17:33.982585Z",
     "iopub.status.busy": "2023-10-29T02:17:33.982140Z",
     "iopub.status.idle": "2023-10-29T02:17:34.569706Z",
     "shell.execute_reply": "2023-10-29T02:17:34.568430Z"
    },
    "papermill": {
     "duration": 0.596439,
     "end_time": "2023-10-29T02:17:34.570840",
     "exception": true,
     "start_time": "2023-10-29T02:17:33.974401",
     "status": "failed"
    },
    "tags": []
   },
   "outputs": [],
   "source": [
    "df  =  pd.read_csv('card_transdata.csv')"
   ]
  },
  {
   "cell_type": "code",
   "execution_count": 3,
   "id": "0ff663e4",
   "metadata": {
    "execution": {
     "iopub.execute_input": "2023-10-29T01:41:58.848126Z",
     "iopub.status.busy": "2023-10-29T01:41:58.847704Z",
     "iopub.status.idle": "2023-10-29T01:41:58.882309Z",
     "shell.execute_reply": "2023-10-29T01:41:58.881108Z",
     "shell.execute_reply.started": "2023-10-29T01:41:58.848092Z"
    },
    "papermill": {
     "duration": null,
     "end_time": null,
     "exception": null,
     "start_time": null,
     "status": "pending"
    },
    "tags": []
   },
   "outputs": [
    {
     "data": {
      "text/html": [
       "<div>\n",
       "<style scoped>\n",
       "    .dataframe tbody tr th:only-of-type {\n",
       "        vertical-align: middle;\n",
       "    }\n",
       "\n",
       "    .dataframe tbody tr th {\n",
       "        vertical-align: top;\n",
       "    }\n",
       "\n",
       "    .dataframe thead th {\n",
       "        text-align: right;\n",
       "    }\n",
       "</style>\n",
       "<table border=\"1\" class=\"dataframe\">\n",
       "  <thead>\n",
       "    <tr style=\"text-align: right;\">\n",
       "      <th></th>\n",
       "      <th>distance_from_home</th>\n",
       "      <th>distance_from_last_transaction</th>\n",
       "      <th>ratio_to_median_purchase_price</th>\n",
       "      <th>repeat_retailer</th>\n",
       "      <th>used_chip</th>\n",
       "      <th>used_pin_number</th>\n",
       "      <th>online_order</th>\n",
       "      <th>fraud</th>\n",
       "    </tr>\n",
       "  </thead>\n",
       "  <tbody>\n",
       "    <tr>\n",
       "      <th>0</th>\n",
       "      <td>57.877857</td>\n",
       "      <td>0.311140</td>\n",
       "      <td>1.945940</td>\n",
       "      <td>1.0</td>\n",
       "      <td>1.0</td>\n",
       "      <td>0.0</td>\n",
       "      <td>0.0</td>\n",
       "      <td>0.0</td>\n",
       "    </tr>\n",
       "    <tr>\n",
       "      <th>1</th>\n",
       "      <td>10.829943</td>\n",
       "      <td>0.175592</td>\n",
       "      <td>1.294219</td>\n",
       "      <td>1.0</td>\n",
       "      <td>0.0</td>\n",
       "      <td>0.0</td>\n",
       "      <td>0.0</td>\n",
       "      <td>0.0</td>\n",
       "    </tr>\n",
       "    <tr>\n",
       "      <th>2</th>\n",
       "      <td>5.091079</td>\n",
       "      <td>0.805153</td>\n",
       "      <td>0.427715</td>\n",
       "      <td>1.0</td>\n",
       "      <td>0.0</td>\n",
       "      <td>0.0</td>\n",
       "      <td>1.0</td>\n",
       "      <td>0.0</td>\n",
       "    </tr>\n",
       "    <tr>\n",
       "      <th>3</th>\n",
       "      <td>2.247564</td>\n",
       "      <td>5.600044</td>\n",
       "      <td>0.362663</td>\n",
       "      <td>1.0</td>\n",
       "      <td>1.0</td>\n",
       "      <td>0.0</td>\n",
       "      <td>1.0</td>\n",
       "      <td>0.0</td>\n",
       "    </tr>\n",
       "    <tr>\n",
       "      <th>4</th>\n",
       "      <td>44.190936</td>\n",
       "      <td>0.566486</td>\n",
       "      <td>2.222767</td>\n",
       "      <td>1.0</td>\n",
       "      <td>1.0</td>\n",
       "      <td>0.0</td>\n",
       "      <td>1.0</td>\n",
       "      <td>0.0</td>\n",
       "    </tr>\n",
       "    <tr>\n",
       "      <th>...</th>\n",
       "      <td>...</td>\n",
       "      <td>...</td>\n",
       "      <td>...</td>\n",
       "      <td>...</td>\n",
       "      <td>...</td>\n",
       "      <td>...</td>\n",
       "      <td>...</td>\n",
       "      <td>...</td>\n",
       "    </tr>\n",
       "    <tr>\n",
       "      <th>999995</th>\n",
       "      <td>2.207101</td>\n",
       "      <td>0.112651</td>\n",
       "      <td>1.626798</td>\n",
       "      <td>1.0</td>\n",
       "      <td>1.0</td>\n",
       "      <td>0.0</td>\n",
       "      <td>0.0</td>\n",
       "      <td>0.0</td>\n",
       "    </tr>\n",
       "    <tr>\n",
       "      <th>999996</th>\n",
       "      <td>19.872726</td>\n",
       "      <td>2.683904</td>\n",
       "      <td>2.778303</td>\n",
       "      <td>1.0</td>\n",
       "      <td>1.0</td>\n",
       "      <td>0.0</td>\n",
       "      <td>0.0</td>\n",
       "      <td>0.0</td>\n",
       "    </tr>\n",
       "    <tr>\n",
       "      <th>999997</th>\n",
       "      <td>2.914857</td>\n",
       "      <td>1.472687</td>\n",
       "      <td>0.218075</td>\n",
       "      <td>1.0</td>\n",
       "      <td>1.0</td>\n",
       "      <td>0.0</td>\n",
       "      <td>1.0</td>\n",
       "      <td>0.0</td>\n",
       "    </tr>\n",
       "    <tr>\n",
       "      <th>999998</th>\n",
       "      <td>4.258729</td>\n",
       "      <td>0.242023</td>\n",
       "      <td>0.475822</td>\n",
       "      <td>1.0</td>\n",
       "      <td>0.0</td>\n",
       "      <td>0.0</td>\n",
       "      <td>1.0</td>\n",
       "      <td>0.0</td>\n",
       "    </tr>\n",
       "    <tr>\n",
       "      <th>999999</th>\n",
       "      <td>58.108125</td>\n",
       "      <td>0.318110</td>\n",
       "      <td>0.386920</td>\n",
       "      <td>1.0</td>\n",
       "      <td>1.0</td>\n",
       "      <td>0.0</td>\n",
       "      <td>1.0</td>\n",
       "      <td>0.0</td>\n",
       "    </tr>\n",
       "  </tbody>\n",
       "</table>\n",
       "<p>1000000 rows × 8 columns</p>\n",
       "</div>"
      ],
      "text/plain": [
       "        distance_from_home  distance_from_last_transaction  \\\n",
       "0                57.877857                        0.311140   \n",
       "1                10.829943                        0.175592   \n",
       "2                 5.091079                        0.805153   \n",
       "3                 2.247564                        5.600044   \n",
       "4                44.190936                        0.566486   \n",
       "...                    ...                             ...   \n",
       "999995            2.207101                        0.112651   \n",
       "999996           19.872726                        2.683904   \n",
       "999997            2.914857                        1.472687   \n",
       "999998            4.258729                        0.242023   \n",
       "999999           58.108125                        0.318110   \n",
       "\n",
       "        ratio_to_median_purchase_price  repeat_retailer  used_chip  \\\n",
       "0                             1.945940              1.0        1.0   \n",
       "1                             1.294219              1.0        0.0   \n",
       "2                             0.427715              1.0        0.0   \n",
       "3                             0.362663              1.0        1.0   \n",
       "4                             2.222767              1.0        1.0   \n",
       "...                                ...              ...        ...   \n",
       "999995                        1.626798              1.0        1.0   \n",
       "999996                        2.778303              1.0        1.0   \n",
       "999997                        0.218075              1.0        1.0   \n",
       "999998                        0.475822              1.0        0.0   \n",
       "999999                        0.386920              1.0        1.0   \n",
       "\n",
       "        used_pin_number  online_order  fraud  \n",
       "0                   0.0           0.0    0.0  \n",
       "1                   0.0           0.0    0.0  \n",
       "2                   0.0           1.0    0.0  \n",
       "3                   0.0           1.0    0.0  \n",
       "4                   0.0           1.0    0.0  \n",
       "...                 ...           ...    ...  \n",
       "999995              0.0           0.0    0.0  \n",
       "999996              0.0           0.0    0.0  \n",
       "999997              0.0           1.0    0.0  \n",
       "999998              0.0           1.0    0.0  \n",
       "999999              0.0           1.0    0.0  \n",
       "\n",
       "[1000000 rows x 8 columns]"
      ]
     },
     "execution_count": 3,
     "metadata": {},
     "output_type": "execute_result"
    }
   ],
   "source": [
    "df"
   ]
  },
  {
   "cell_type": "code",
   "execution_count": 4,
   "id": "c704ae16",
   "metadata": {
    "execution": {
     "iopub.execute_input": "2023-10-29T01:41:59.987194Z",
     "iopub.status.busy": "2023-10-29T01:41:59.986318Z",
     "iopub.status.idle": "2023-10-29T01:42:00.243647Z",
     "shell.execute_reply": "2023-10-29T01:42:00.242452Z",
     "shell.execute_reply.started": "2023-10-29T01:41:59.987154Z"
    },
    "papermill": {
     "duration": null,
     "end_time": null,
     "exception": null,
     "start_time": null,
     "status": "pending"
    },
    "tags": []
   },
   "outputs": [],
   "source": [
    "from sklearn.linear_model import LogisticRegression"
   ]
  },
  {
   "cell_type": "code",
   "execution_count": 5,
   "id": "9dd00834",
   "metadata": {
    "execution": {
     "iopub.execute_input": "2023-10-29T01:42:01.573861Z",
     "iopub.status.busy": "2023-10-29T01:42:01.573245Z",
     "iopub.status.idle": "2023-10-29T01:42:01.578786Z",
     "shell.execute_reply": "2023-10-29T01:42:01.577675Z",
     "shell.execute_reply.started": "2023-10-29T01:42:01.573828Z"
    },
    "papermill": {
     "duration": null,
     "end_time": null,
     "exception": null,
     "start_time": null,
     "status": "pending"
    },
    "tags": []
   },
   "outputs": [],
   "source": [
    "model =  LogisticRegression()"
   ]
  },
  {
   "cell_type": "code",
   "execution_count": 6,
   "id": "6419c055",
   "metadata": {
    "execution": {
     "iopub.execute_input": "2023-10-29T01:42:04.401081Z",
     "iopub.status.busy": "2023-10-29T01:42:04.400191Z",
     "iopub.status.idle": "2023-10-29T01:42:04.405663Z",
     "shell.execute_reply": "2023-10-29T01:42:04.404572Z",
     "shell.execute_reply.started": "2023-10-29T01:42:04.401045Z"
    },
    "papermill": {
     "duration": null,
     "end_time": null,
     "exception": null,
     "start_time": null,
     "status": "pending"
    },
    "tags": []
   },
   "outputs": [],
   "source": [
    "from sklearn.model_selection import train_test_split"
   ]
  },
  {
   "cell_type": "code",
   "execution_count": 7,
   "id": "f46ba9b9",
   "metadata": {
    "execution": {
     "iopub.execute_input": "2023-10-29T01:42:06.202180Z",
     "iopub.status.busy": "2023-10-29T01:42:06.201793Z",
     "iopub.status.idle": "2023-10-29T01:42:06.224350Z",
     "shell.execute_reply": "2023-10-29T01:42:06.223134Z",
     "shell.execute_reply.started": "2023-10-29T01:42:06.202149Z"
    },
    "papermill": {
     "duration": null,
     "end_time": null,
     "exception": null,
     "start_time": null,
     "status": "pending"
    },
    "tags": []
   },
   "outputs": [
    {
     "data": {
      "text/plain": [
       "0.0    912597\n",
       "1.0     87403\n",
       "Name: fraud, dtype: int64"
      ]
     },
     "execution_count": 7,
     "metadata": {},
     "output_type": "execute_result"
    }
   ],
   "source": [
    "df['fraud'].value_counts()"
   ]
  },
  {
   "cell_type": "code",
   "execution_count": 8,
   "id": "20c54a40",
   "metadata": {
    "execution": {
     "iopub.execute_input": "2023-10-29T01:42:07.265297Z",
     "iopub.status.busy": "2023-10-29T01:42:07.264897Z",
     "iopub.status.idle": "2023-10-29T01:42:07.295006Z",
     "shell.execute_reply": "2023-10-29T01:42:07.293977Z",
     "shell.execute_reply.started": "2023-10-29T01:42:07.265267Z"
    },
    "papermill": {
     "duration": null,
     "end_time": null,
     "exception": null,
     "start_time": null,
     "status": "pending"
    },
    "tags": []
   },
   "outputs": [],
   "source": [
    "X  = df.drop(['fraud'],axis =1)\n",
    "y =  df['fraud']"
   ]
  },
  {
   "cell_type": "code",
   "execution_count": 9,
   "id": "8cab2800",
   "metadata": {
    "execution": {
     "iopub.execute_input": "2023-10-29T01:42:08.386690Z",
     "iopub.status.busy": "2023-10-29T01:42:08.386264Z",
     "iopub.status.idle": "2023-10-29T01:42:09.142167Z",
     "shell.execute_reply": "2023-10-29T01:42:09.141238Z",
     "shell.execute_reply.started": "2023-10-29T01:42:08.386654Z"
    },
    "papermill": {
     "duration": null,
     "end_time": null,
     "exception": null,
     "start_time": null,
     "status": "pending"
    },
    "tags": []
   },
   "outputs": [],
   "source": [
    "X_train, X_test, y_train, y_test = train_test_split(X, y, test_size=0.2, stratify=y, random_state=21)\n",
    "X_train,X_val,y_train,y_val =  train_test_split(X_train,y_train,test_size=0.2,random_state=21)\n"
   ]
  },
  {
   "cell_type": "code",
   "execution_count": 10,
   "id": "810bb9f2",
   "metadata": {
    "execution": {
     "iopub.execute_input": "2023-10-29T01:42:09.564338Z",
     "iopub.status.busy": "2023-10-29T01:42:09.563944Z",
     "iopub.status.idle": "2023-10-29T01:42:09.586540Z",
     "shell.execute_reply": "2023-10-29T01:42:09.585432Z",
     "shell.execute_reply.started": "2023-10-29T01:42:09.564308Z"
    },
    "papermill": {
     "duration": null,
     "end_time": null,
     "exception": null,
     "start_time": null,
     "status": "pending"
    },
    "tags": []
   },
   "outputs": [
    {
     "data": {
      "text/html": [
       "<div>\n",
       "<style scoped>\n",
       "    .dataframe tbody tr th:only-of-type {\n",
       "        vertical-align: middle;\n",
       "    }\n",
       "\n",
       "    .dataframe tbody tr th {\n",
       "        vertical-align: top;\n",
       "    }\n",
       "\n",
       "    .dataframe thead th {\n",
       "        text-align: right;\n",
       "    }\n",
       "</style>\n",
       "<table border=\"1\" class=\"dataframe\">\n",
       "  <thead>\n",
       "    <tr style=\"text-align: right;\">\n",
       "      <th></th>\n",
       "      <th>distance_from_home</th>\n",
       "      <th>distance_from_last_transaction</th>\n",
       "      <th>ratio_to_median_purchase_price</th>\n",
       "      <th>repeat_retailer</th>\n",
       "      <th>used_chip</th>\n",
       "      <th>used_pin_number</th>\n",
       "      <th>online_order</th>\n",
       "    </tr>\n",
       "  </thead>\n",
       "  <tbody>\n",
       "    <tr>\n",
       "      <th>610131</th>\n",
       "      <td>1.515825</td>\n",
       "      <td>8.470277</td>\n",
       "      <td>1.508465</td>\n",
       "      <td>0.0</td>\n",
       "      <td>0.0</td>\n",
       "      <td>0.0</td>\n",
       "      <td>0.0</td>\n",
       "    </tr>\n",
       "    <tr>\n",
       "      <th>931234</th>\n",
       "      <td>167.552790</td>\n",
       "      <td>0.469252</td>\n",
       "      <td>0.534126</td>\n",
       "      <td>1.0</td>\n",
       "      <td>1.0</td>\n",
       "      <td>1.0</td>\n",
       "      <td>0.0</td>\n",
       "    </tr>\n",
       "    <tr>\n",
       "      <th>180177</th>\n",
       "      <td>3.080724</td>\n",
       "      <td>12.043227</td>\n",
       "      <td>2.546318</td>\n",
       "      <td>1.0</td>\n",
       "      <td>0.0</td>\n",
       "      <td>0.0</td>\n",
       "      <td>0.0</td>\n",
       "    </tr>\n",
       "    <tr>\n",
       "      <th>929163</th>\n",
       "      <td>103.937794</td>\n",
       "      <td>0.447033</td>\n",
       "      <td>4.794254</td>\n",
       "      <td>1.0</td>\n",
       "      <td>0.0</td>\n",
       "      <td>1.0</td>\n",
       "      <td>1.0</td>\n",
       "    </tr>\n",
       "    <tr>\n",
       "      <th>195308</th>\n",
       "      <td>28.645903</td>\n",
       "      <td>0.848547</td>\n",
       "      <td>0.122286</td>\n",
       "      <td>1.0</td>\n",
       "      <td>0.0</td>\n",
       "      <td>0.0</td>\n",
       "      <td>1.0</td>\n",
       "    </tr>\n",
       "    <tr>\n",
       "      <th>...</th>\n",
       "      <td>...</td>\n",
       "      <td>...</td>\n",
       "      <td>...</td>\n",
       "      <td>...</td>\n",
       "      <td>...</td>\n",
       "      <td>...</td>\n",
       "      <td>...</td>\n",
       "    </tr>\n",
       "    <tr>\n",
       "      <th>174303</th>\n",
       "      <td>0.313876</td>\n",
       "      <td>1.022229</td>\n",
       "      <td>0.216316</td>\n",
       "      <td>0.0</td>\n",
       "      <td>1.0</td>\n",
       "      <td>0.0</td>\n",
       "      <td>1.0</td>\n",
       "    </tr>\n",
       "    <tr>\n",
       "      <th>573627</th>\n",
       "      <td>2.876870</td>\n",
       "      <td>1.066298</td>\n",
       "      <td>0.440882</td>\n",
       "      <td>1.0</td>\n",
       "      <td>0.0</td>\n",
       "      <td>0.0</td>\n",
       "      <td>1.0</td>\n",
       "    </tr>\n",
       "    <tr>\n",
       "      <th>706924</th>\n",
       "      <td>68.950378</td>\n",
       "      <td>4.540762</td>\n",
       "      <td>0.352962</td>\n",
       "      <td>1.0</td>\n",
       "      <td>0.0</td>\n",
       "      <td>0.0</td>\n",
       "      <td>0.0</td>\n",
       "    </tr>\n",
       "    <tr>\n",
       "      <th>604817</th>\n",
       "      <td>17.837547</td>\n",
       "      <td>8.079328</td>\n",
       "      <td>0.166027</td>\n",
       "      <td>1.0</td>\n",
       "      <td>1.0</td>\n",
       "      <td>0.0</td>\n",
       "      <td>1.0</td>\n",
       "    </tr>\n",
       "    <tr>\n",
       "      <th>522371</th>\n",
       "      <td>14.021960</td>\n",
       "      <td>6.772192</td>\n",
       "      <td>1.495933</td>\n",
       "      <td>1.0</td>\n",
       "      <td>0.0</td>\n",
       "      <td>0.0</td>\n",
       "      <td>1.0</td>\n",
       "    </tr>\n",
       "  </tbody>\n",
       "</table>\n",
       "<p>160000 rows × 7 columns</p>\n",
       "</div>"
      ],
      "text/plain": [
       "        distance_from_home  distance_from_last_transaction  \\\n",
       "610131            1.515825                        8.470277   \n",
       "931234          167.552790                        0.469252   \n",
       "180177            3.080724                       12.043227   \n",
       "929163          103.937794                        0.447033   \n",
       "195308           28.645903                        0.848547   \n",
       "...                    ...                             ...   \n",
       "174303            0.313876                        1.022229   \n",
       "573627            2.876870                        1.066298   \n",
       "706924           68.950378                        4.540762   \n",
       "604817           17.837547                        8.079328   \n",
       "522371           14.021960                        6.772192   \n",
       "\n",
       "        ratio_to_median_purchase_price  repeat_retailer  used_chip  \\\n",
       "610131                        1.508465              0.0        0.0   \n",
       "931234                        0.534126              1.0        1.0   \n",
       "180177                        2.546318              1.0        0.0   \n",
       "929163                        4.794254              1.0        0.0   \n",
       "195308                        0.122286              1.0        0.0   \n",
       "...                                ...              ...        ...   \n",
       "174303                        0.216316              0.0        1.0   \n",
       "573627                        0.440882              1.0        0.0   \n",
       "706924                        0.352962              1.0        0.0   \n",
       "604817                        0.166027              1.0        1.0   \n",
       "522371                        1.495933              1.0        0.0   \n",
       "\n",
       "        used_pin_number  online_order  \n",
       "610131              0.0           0.0  \n",
       "931234              1.0           0.0  \n",
       "180177              0.0           0.0  \n",
       "929163              1.0           1.0  \n",
       "195308              0.0           1.0  \n",
       "...                 ...           ...  \n",
       "174303              0.0           1.0  \n",
       "573627              0.0           1.0  \n",
       "706924              0.0           0.0  \n",
       "604817              0.0           1.0  \n",
       "522371              0.0           1.0  \n",
       "\n",
       "[160000 rows x 7 columns]"
      ]
     },
     "execution_count": 10,
     "metadata": {},
     "output_type": "execute_result"
    }
   ],
   "source": [
    "X_val"
   ]
  },
  {
   "cell_type": "code",
   "execution_count": 11,
   "id": "b51396fd",
   "metadata": {
    "execution": {
     "iopub.execute_input": "2023-10-29T01:42:10.818910Z",
     "iopub.status.busy": "2023-10-29T01:42:10.817890Z",
     "iopub.status.idle": "2023-10-29T01:42:11.839721Z",
     "shell.execute_reply": "2023-10-29T01:42:11.838516Z",
     "shell.execute_reply.started": "2023-10-29T01:42:10.818872Z"
    },
    "papermill": {
     "duration": null,
     "end_time": null,
     "exception": null,
     "start_time": null,
     "status": "pending"
    },
    "tags": []
   },
   "outputs": [
    {
     "data": {
      "text/plain": [
       "<AxesSubplot: xlabel='distance_from_home', ylabel='Count'>"
      ]
     },
     "execution_count": 11,
     "metadata": {},
     "output_type": "execute_result"
    },
    {
     "data": {
      "image/png": "[encoded data removed]",
      "text/plain": [
       "<Figure size 640x480 with 1 Axes>"
      ]
     },
     "metadata": {},
     "output_type": "display_data"
    }
   ],
   "source": [
    "sns.histplot(x = 'distance_from_home',data = df,bins = 100)"
   ]
  },
  {
   "cell_type": "code",
   "execution_count": 12,
   "id": "f6c9f9d3",
   "metadata": {
    "execution": {
     "iopub.execute_input": "2023-10-29T01:42:11.842426Z",
     "iopub.status.busy": "2023-10-29T01:42:11.841975Z",
     "iopub.status.idle": "2023-10-29T01:42:16.210869Z",
     "shell.execute_reply": "2023-10-29T01:42:16.209785Z",
     "shell.execute_reply.started": "2023-10-29T01:42:11.842383Z"
    },
    "papermill": {
     "duration": null,
     "end_time": null,
     "exception": null,
     "start_time": null,
     "status": "pending"
    },
    "tags": []
   },
   "outputs": [
    {
     "data": {
      "text/plain": [
       "Text(0.5, 1.0, 'Violin Plots for Multiple Features')"
      ]
     },
     "execution_count": 12,
     "metadata": {},
     "output_type": "execute_result"
    },
    {
     "data": {
      "image/png": "[encoded data removed]",
      "text/plain": [
       "<Figure size 1200x600 with 1 Axes>"
      ]
     },
     "metadata": {},
     "output_type": "display_data"
    }
   ],
   "source": [
    "sns.set(style=\"whitegrid\")\n",
    "plt.figure(figsize=(12, 6)) \n",
    "ax  = sns.violinplot(data =  df[['distance_from_last_transaction','distance_from_home']])\n",
    "plt.xlabel(\"Category\")\n",
    "plt.ylabel(\"Value\")\n",
    "plt.title(\"Violin Plots for Multiple Features\")"
   ]
  },
  {
   "cell_type": "code",
   "execution_count": 13,
   "id": "4cea2c9f",
   "metadata": {
    "execution": {
     "iopub.execute_input": "2023-10-29T01:43:24.145322Z",
     "iopub.status.busy": "2023-10-29T01:43:24.144911Z",
     "iopub.status.idle": "2023-10-29T01:43:24.150877Z",
     "shell.execute_reply": "2023-10-29T01:43:24.149614Z",
     "shell.execute_reply.started": "2023-10-29T01:43:24.145290Z"
    },
    "papermill": {
     "duration": null,
     "end_time": null,
     "exception": null,
     "start_time": null,
     "status": "pending"
    },
    "tags": []
   },
   "outputs": [],
   "source": [
    "from sklearn.preprocessing import StandardScaler"
   ]
  },
  {
   "cell_type": "code",
   "execution_count": 14,
   "id": "61ac4015",
   "metadata": {
    "execution": {
     "iopub.execute_input": "2023-10-29T01:43:25.412882Z",
     "iopub.status.busy": "2023-10-29T01:43:25.411964Z",
     "iopub.status.idle": "2023-10-29T01:43:25.417613Z",
     "shell.execute_reply": "2023-10-29T01:43:25.416655Z",
     "shell.execute_reply.started": "2023-10-29T01:43:25.412844Z"
    },
    "papermill": {
     "duration": null,
     "end_time": null,
     "exception": null,
     "start_time": null,
     "status": "pending"
    },
    "tags": []
   },
   "outputs": [],
   "source": [
    "scale =  StandardScaler()"
   ]
  },
  {
   "cell_type": "code",
   "execution_count": 15,
   "id": "571ff6da",
   "metadata": {
    "execution": {
     "iopub.execute_input": "2023-10-29T01:43:26.333823Z",
     "iopub.status.busy": "2023-10-29T01:43:26.332827Z",
     "iopub.status.idle": "2023-10-29T01:43:26.413505Z",
     "shell.execute_reply": "2023-10-29T01:43:26.412552Z",
     "shell.execute_reply.started": "2023-10-29T01:43:26.333785Z"
    },
    "papermill": {
     "duration": null,
     "end_time": null,
     "exception": null,
     "start_time": null,
     "status": "pending"
    },
    "tags": []
   },
   "outputs": [],
   "source": [
    "from sklearn.compose import ColumnTransformer\n",
    "from sklearn.preprocessing import StandardScaler\n",
    "\n",
    "# Define which features to scale and which to leave unchanged\n",
    "scaling_columns = [0,1]  \n",
    "unchanged_columns = [2,3,4,5,6]\n",
    "\n",
    "# Create a ColumnTransformer with different preprocessing steps\n",
    "preprocessor = ColumnTransformer(\n",
    "    transformers=[\n",
    "        ('scaler', StandardScaler(), scaling_columns),\n",
    "        ('passthrough', 'passthrough', unchanged_columns)  # Leave other columns unchanged\n",
    "    ])\n",
    "\n",
    "# Apply the preprocessing to your training data\n",
    "X_train_1 = preprocessor.fit_transform(X_train)"
   ]
  },
  {
   "cell_type": "code",
   "execution_count": 16,
   "id": "86e14728",
   "metadata": {
    "execution": {
     "iopub.execute_input": "2023-10-29T01:43:32.992505Z",
     "iopub.status.busy": "2023-10-29T01:43:32.991435Z",
     "iopub.status.idle": "2023-10-29T01:43:32.999804Z",
     "shell.execute_reply": "2023-10-29T01:43:32.998929Z",
     "shell.execute_reply.started": "2023-10-29T01:43:32.992456Z"
    },
    "papermill": {
     "duration": null,
     "end_time": null,
     "exception": null,
     "start_time": null,
     "status": "pending"
    },
    "tags": []
   },
   "outputs": [
    {
     "data": {
      "text/plain": [
       "array([[ 1.31590987, -0.13806763,  2.29339236, ...,  1.        ,\n",
       "         1.        ,  1.        ],\n",
       "       [ 0.01552887,  0.17843104,  1.73602939, ...,  0.        ,\n",
       "         0.        ,  0.        ],\n",
       "       [-0.31063888,  1.00696442,  4.05756406, ...,  1.        ,\n",
       "         0.        ,  0.        ],\n",
       "       ...,\n",
       "       [-0.33172109, -0.16865314,  0.53217294, ...,  1.        ,\n",
       "         0.        ,  0.        ],\n",
       "       [-0.31795722, -0.05712978,  1.98646725, ...,  0.        ,\n",
       "         0.        ,  0.        ],\n",
       "       [-0.3032626 , -0.10773251,  3.91778515, ...,  0.        ,\n",
       "         1.        ,  0.        ]])"
      ]
     },
     "execution_count": 16,
     "metadata": {},
     "output_type": "execute_result"
    }
   ],
   "source": [
    "X_train_1"
   ]
  },
  {
   "cell_type": "code",
   "execution_count": 17,
   "id": "3c6f3f62",
   "metadata": {
    "execution": {
     "iopub.execute_input": "2023-10-29T01:43:33.757902Z",
     "iopub.status.busy": "2023-10-29T01:43:33.757504Z",
     "iopub.status.idle": "2023-10-29T01:43:35.310913Z",
     "shell.execute_reply": "2023-10-29T01:43:35.309890Z",
     "shell.execute_reply.started": "2023-10-29T01:43:33.757869Z"
    },
    "papermill": {
     "duration": null,
     "end_time": null,
     "exception": null,
     "start_time": null,
     "status": "pending"
    },
    "tags": []
   },
   "outputs": [],
   "source": [
    "from imblearn.over_sampling import SMOTE\n",
    "\n",
    "# Create a SMOTE object\n",
    "smote = SMOTE()\n",
    "\n",
    "X_train_1,y_train = smote.fit_resample(X_train_1, y_train)\n"
   ]
  },
  {
   "cell_type": "code",
   "execution_count": 18,
   "id": "57cf627b",
   "metadata": {
    "execution": {
     "iopub.execute_input": "2023-10-29T01:43:36.621281Z",
     "iopub.status.busy": "2023-10-29T01:43:36.620217Z",
     "iopub.status.idle": "2023-10-29T01:43:36.644249Z",
     "shell.execute_reply": "2023-10-29T01:43:36.643195Z",
     "shell.execute_reply.started": "2023-10-29T01:43:36.621233Z"
    },
    "papermill": {
     "duration": null,
     "end_time": null,
     "exception": null,
     "start_time": null,
     "status": "pending"
    },
    "tags": []
   },
   "outputs": [
    {
     "data": {
      "text/plain": [
       "0.0    583961\n",
       "1.0    583961\n",
       "Name: fraud, dtype: int64"
      ]
     },
     "execution_count": 18,
     "metadata": {},
     "output_type": "execute_result"
    }
   ],
   "source": [
    "y_train.value_counts()"
   ]
  },
  {
   "cell_type": "code",
   "execution_count": 19,
   "id": "2d0792d6",
   "metadata": {
    "execution": {
     "iopub.execute_input": "2023-10-29T01:43:37.417232Z",
     "iopub.status.busy": "2023-10-29T01:43:37.416291Z",
     "iopub.status.idle": "2023-10-29T01:43:41.451001Z",
     "shell.execute_reply": "2023-10-29T01:43:41.449472Z",
     "shell.execute_reply.started": "2023-10-29T01:43:37.417196Z"
    },
    "papermill": {
     "duration": null,
     "end_time": null,
     "exception": null,
     "start_time": null,
     "status": "pending"
    },
    "tags": []
   },
   "outputs": [
    {
     "data": {
      "text/html": [
       "<style>#sk-container-id-1 {color: black;background-color: white;}#sk-container-id-1 pre{padding: 0;}#sk-container-id-1 div.sk-toggleable {background-color: white;}#sk-container-id-1 label.sk-toggleable__label {cursor: pointer;display: block;width: 100%;margin-bottom: 0;padding: 0.3em;box-sizing: border-box;text-align: center;}#sk-container-id-1 label.sk-toggleable__label-arrow:before {content: \"▸\";float: left;margin-right: 0.25em;color: #696969;}#sk-container-id-1 label.sk-toggleable__label-arrow:hover:before {color: black;}#sk-container-id-1 div.sk-estimator:hover label.sk-toggleable__label-arrow:before {color: black;}#sk-container-id-1 div.sk-toggleable__content {max-height: 0;max-width: 0;overflow: hidden;text-align: left;background-color: #f0f8ff;}#sk-container-id-1 div.sk-toggleable__content pre {margin: 0.2em;color: black;border-radius: 0.25em;background-color: #f0f8ff;}#sk-container-id-1 input.sk-toggleable__control:checked~div.sk-toggleable__content {max-height: 200px;max-width: 100%;overflow: auto;}#sk-container-id-1 input.sk-toggleable__control:checked~label.sk-toggleable__label-arrow:before {content: \"▾\";}#sk-container-id-1 div.sk-estimator input.sk-toggleable__control:checked~label.sk-toggleable__label {background-color: #d4ebff;}#sk-container-id-1 div.sk-label input.sk-toggleable__control:checked~label.sk-toggleable__label {background-color: #d4ebff;}#sk-container-id-1 input.sk-hidden--visually {border: 0;clip: rect(1px 1px 1px 1px);clip: rect(1px, 1px, 1px, 1px);height: 1px;margin: -1px;overflow: hidden;padding: 0;position: absolute;width: 1px;}#sk-container-id-1 div.sk-estimator {font-family: monospace;background-color: #f0f8ff;border: 1px dotted black;border-radius: 0.25em;box-sizing: border-box;margin-bottom: 0.5em;}#sk-container-id-1 div.sk-estimator:hover {background-color: #d4ebff;}#sk-container-id-1 div.sk-parallel-item::after {content: \"\";width: 100%;border-bottom: 1px solid gray;flex-grow: 1;}#sk-container-id-1 div.sk-label:hover label.sk-toggleable__label {background-color: #d4ebff;}#sk-container-id-1 div.sk-serial::before {content: \"\";position: absolute;border-left: 1px solid gray;box-sizing: border-box;top: 0;bottom: 0;left: 50%;z-index: 0;}#sk-container-id-1 div.sk-serial {display: flex;flex-direction: column;align-items: center;background-color: white;padding-right: 0.2em;padding-left: 0.2em;position: relative;}#sk-container-id-1 div.sk-item {position: relative;z-index: 1;}#sk-container-id-1 div.sk-parallel {display: flex;align-items: stretch;justify-content: center;background-color: white;position: relative;}#sk-container-id-1 div.sk-item::before, #sk-container-id-1 div.sk-parallel-item::before {content: \"\";position: absolute;border-left: 1px solid gray;box-sizing: border-box;top: 0;bottom: 0;left: 50%;z-index: -1;}#sk-container-id-1 div.sk-parallel-item {display: flex;flex-direction: column;z-index: 1;position: relative;background-color: white;}#sk-container-id-1 div.sk-parallel-item:first-child::after {align-self: flex-end;width: 50%;}#sk-container-id-1 div.sk-parallel-item:last-child::after {align-self: flex-start;width: 50%;}#sk-container-id-1 div.sk-parallel-item:only-child::after {width: 0;}#sk-container-id-1 div.sk-dashed-wrapped {border: 1px dashed gray;margin: 0 0.4em 0.5em 0.4em;box-sizing: border-box;padding-bottom: 0.4em;background-color: white;}#sk-container-id-1 div.sk-label label {font-family: monospace;font-weight: bold;display: inline-block;line-height: 1.2em;}#sk-container-id-1 div.sk-label-container {text-align: center;}#sk-container-id-1 div.sk-container {/* jupyter's `normalize.less` sets `[hidden] { display: none; }` but bootstrap.min.css set `[hidden] { display: none !important; }` so we also need the `!important` here to be able to override the default hidden behavior on the sphinx rendered scikit-learn.org. See: https://github.com/scikit-learn/scikit-learn/issues/21755 */display: inline-block !important;position: relative;}#sk-container-id-1 div.sk-text-repr-fallback {display: none;}</style><div id=\"sk-container-id-1\" class=\"sk-top-container\"><div class=\"sk-text-repr-fallback\"><pre>LogisticRegression()</pre><b>In a Jupyter environment, please rerun this cell to show the HTML representation or trust the notebook. <br />On GitHub, the HTML representation is unable to render, please try loading this page with nbviewer.org.</b></div><div class=\"sk-container\" hidden><div class=\"sk-item\"><div class=\"sk-estimator sk-toggleable\"><input class=\"sk-toggleable__control sk-hidden--visually\" id=\"sk-estimator-id-1\" type=\"checkbox\" checked><label for=\"sk-estimator-id-1\" class=\"sk-toggleable__label sk-toggleable__label-arrow\">LogisticRegression</label><div class=\"sk-toggleable__content\"><pre>LogisticRegression()</pre></div></div></div></div></div>"
      ],
      "text/plain": [
       "LogisticRegression()"
      ]
     },
     "execution_count": 19,
     "metadata": {},
     "output_type": "execute_result"
    }
   ],
   "source": [
    "model.fit(X_train_1,y_train)"
   ]
  },
  {
   "cell_type": "code",
   "execution_count": 20,
   "id": "511aad69",
   "metadata": {
    "execution": {
     "iopub.execute_input": "2023-10-29T01:43:41.455685Z",
     "iopub.status.busy": "2023-10-29T01:43:41.454157Z",
     "iopub.status.idle": "2023-10-29T01:43:41.465939Z",
     "shell.execute_reply": "2023-10-29T01:43:41.464536Z",
     "shell.execute_reply.started": "2023-10-29T01:43:41.455623Z"
    },
    "papermill": {
     "duration": null,
     "end_time": null,
     "exception": null,
     "start_time": null,
     "status": "pending"
    },
    "tags": []
   },
   "outputs": [
    {
     "data": {
      "text/plain": [
       "array([[  1.9303078 ,   1.34941085,   1.21285707,  -1.39759755,\n",
       "         -1.19398901, -10.8178394 ,   4.98298008]])"
      ]
     },
     "execution_count": 20,
     "metadata": {},
     "output_type": "execute_result"
    }
   ],
   "source": [
    "model.coef_"
   ]
  },
  {
   "cell_type": "code",
   "execution_count": 22,
   "id": "43d5965e",
   "metadata": {
    "execution": {
     "iopub.execute_input": "2023-10-29T01:43:43.432643Z",
     "iopub.status.busy": "2023-10-29T01:43:43.432269Z",
     "iopub.status.idle": "2023-10-29T01:43:43.447229Z",
     "shell.execute_reply": "2023-10-29T01:43:43.446209Z",
     "shell.execute_reply.started": "2023-10-29T01:43:43.432614Z"
    },
    "papermill": {
     "duration": null,
     "end_time": null,
     "exception": null,
     "start_time": null,
     "status": "pending"
    },
    "tags": []
   },
   "outputs": [],
   "source": [
    "X_val_1 =  preprocessor.transform(X_val)"
   ]
  },
  {
   "cell_type": "code",
   "execution_count": 23,
   "id": "c71849e8",
   "metadata": {
    "execution": {
     "iopub.execute_input": "2023-10-29T01:43:55.841548Z",
     "iopub.status.busy": "2023-10-29T01:43:55.841134Z",
     "iopub.status.idle": "2023-10-29T01:43:55.899987Z",
     "shell.execute_reply": "2023-10-29T01:43:55.898444Z",
     "shell.execute_reply.started": "2023-10-29T01:43:55.841518Z"
    },
    "papermill": {
     "duration": null,
     "end_time": null,
     "exception": null,
     "start_time": null,
     "status": "pending"
    },
    "tags": []
   },
   "outputs": [
    {
     "data": {
      "text/plain": [
       "0.93449375"
      ]
     },
     "execution_count": 23,
     "metadata": {},
     "output_type": "execute_result"
    }
   ],
   "source": [
    "model.score(X_val_1,y_val)"
   ]
  },
  {
   "cell_type": "code",
   "execution_count": 24,
   "id": "b29be313",
   "metadata": {
    "execution": {
     "iopub.execute_input": "2023-10-29T01:43:56.931841Z",
     "iopub.status.busy": "2023-10-29T01:43:56.931335Z",
     "iopub.status.idle": "2023-10-29T01:43:56.937309Z",
     "shell.execute_reply": "2023-10-29T01:43:56.936274Z",
     "shell.execute_reply.started": "2023-10-29T01:43:56.931802Z"
    },
    "papermill": {
     "duration": null,
     "end_time": null,
     "exception": null,
     "start_time": null,
     "status": "pending"
    },
    "tags": []
   },
   "outputs": [],
   "source": [
    "from sklearn.ensemble import RandomForestClassifier"
   ]
  },
  {
   "cell_type": "code",
   "execution_count": 25,
   "id": "a8155a3a",
   "metadata": {
    "execution": {
     "iopub.execute_input": "2023-10-29T01:43:57.946618Z",
     "iopub.status.busy": "2023-10-29T01:43:57.946238Z",
     "iopub.status.idle": "2023-10-29T01:43:57.951859Z",
     "shell.execute_reply": "2023-10-29T01:43:57.950333Z",
     "shell.execute_reply.started": "2023-10-29T01:43:57.946588Z"
    },
    "papermill": {
     "duration": null,
     "end_time": null,
     "exception": null,
     "start_time": null,
     "status": "pending"
    },
    "tags": []
   },
   "outputs": [],
   "source": [
    "rfc  =  RandomForestClassifier()"
   ]
  },
  {
   "cell_type": "code",
   "execution_count": 26,
   "id": "2a1e9302",
   "metadata": {
    "execution": {
     "iopub.execute_input": "2023-10-29T01:47:17.897320Z",
     "iopub.status.busy": "2023-10-29T01:47:17.896927Z",
     "iopub.status.idle": "2023-10-29T01:51:20.359665Z",
     "shell.execute_reply": "2023-10-29T01:51:20.358533Z",
     "shell.execute_reply.started": "2023-10-29T01:47:17.897290Z"
    },
    "papermill": {
     "duration": null,
     "end_time": null,
     "exception": null,
     "start_time": null,
     "status": "pending"
    },
    "tags": []
   },
   "outputs": [
    {
     "data": {
      "text/html": [
       "<style>#sk-container-id-2 {color: black;background-color: white;}#sk-container-id-2 pre{padding: 0;}#sk-container-id-2 div.sk-toggleable {background-color: white;}#sk-container-id-2 label.sk-toggleable__label {cursor: pointer;display: block;width: 100%;margin-bottom: 0;padding: 0.3em;box-sizing: border-box;text-align: center;}#sk-container-id-2 label.sk-toggleable__label-arrow:before {content: \"▸\";float: left;margin-right: 0.25em;color: #696969;}#sk-container-id-2 label.sk-toggleable__label-arrow:hover:before {color: black;}#sk-container-id-2 div.sk-estimator:hover label.sk-toggleable__label-arrow:before {color: black;}#sk-container-id-2 div.sk-toggleable__content {max-height: 0;max-width: 0;overflow: hidden;text-align: left;background-color: #f0f8ff;}#sk-container-id-2 div.sk-toggleable__content pre {margin: 0.2em;color: black;border-radius: 0.25em;background-color: #f0f8ff;}#sk-container-id-2 input.sk-toggleable__control:checked~div.sk-toggleable__content {max-height: 200px;max-width: 100%;overflow: auto;}#sk-container-id-2 input.sk-toggleable__control:checked~label.sk-toggleable__label-arrow:before {content: \"▾\";}#sk-container-id-2 div.sk-estimator input.sk-toggleable__control:checked~label.sk-toggleable__label {background-color: #d4ebff;}#sk-container-id-2 div.sk-label input.sk-toggleable__control:checked~label.sk-toggleable__label {background-color: #d4ebff;}#sk-container-id-2 input.sk-hidden--visually {border: 0;clip: rect(1px 1px 1px 1px);clip: rect(1px, 1px, 1px, 1px);height: 1px;margin: -1px;overflow: hidden;padding: 0;position: absolute;width: 1px;}#sk-container-id-2 div.sk-estimator {font-family: monospace;background-color: #f0f8ff;border: 1px dotted black;border-radius: 0.25em;box-sizing: border-box;margin-bottom: 0.5em;}#sk-container-id-2 div.sk-estimator:hover {background-color: #d4ebff;}#sk-container-id-2 div.sk-parallel-item::after {content: \"\";width: 100%;border-bottom: 1px solid gray;flex-grow: 1;}#sk-container-id-2 div.sk-label:hover label.sk-toggleable__label {background-color: #d4ebff;}#sk-container-id-2 div.sk-serial::before {content: \"\";position: absolute;border-left: 1px solid gray;box-sizing: border-box;top: 0;bottom: 0;left: 50%;z-index: 0;}#sk-container-id-2 div.sk-serial {display: flex;flex-direction: column;align-items: center;background-color: white;padding-right: 0.2em;padding-left: 0.2em;position: relative;}#sk-container-id-2 div.sk-item {position: relative;z-index: 1;}#sk-container-id-2 div.sk-parallel {display: flex;align-items: stretch;justify-content: center;background-color: white;position: relative;}#sk-container-id-2 div.sk-item::before, #sk-container-id-2 div.sk-parallel-item::before {content: \"\";position: absolute;border-left: 1px solid gray;box-sizing: border-box;top: 0;bottom: 0;left: 50%;z-index: -1;}#sk-container-id-2 div.sk-parallel-item {display: flex;flex-direction: column;z-index: 1;position: relative;background-color: white;}#sk-container-id-2 div.sk-parallel-item:first-child::after {align-self: flex-end;width: 50%;}#sk-container-id-2 div.sk-parallel-item:last-child::after {align-self: flex-start;width: 50%;}#sk-container-id-2 div.sk-parallel-item:only-child::after {width: 0;}#sk-container-id-2 div.sk-dashed-wrapped {border: 1px dashed gray;margin: 0 0.4em 0.5em 0.4em;box-sizing: border-box;padding-bottom: 0.4em;background-color: white;}#sk-container-id-2 div.sk-label label {font-family: monospace;font-weight: bold;display: inline-block;line-height: 1.2em;}#sk-container-id-2 div.sk-label-container {text-align: center;}#sk-container-id-2 div.sk-container {/* jupyter's `normalize.less` sets `[hidden] { display: none; }` but bootstrap.min.css set `[hidden] { display: none !important; }` so we also need the `!important` here to be able to override the default hidden behavior on the sphinx rendered scikit-learn.org. See: https://github.com/scikit-learn/scikit-learn/issues/21755 */display: inline-block !important;position: relative;}#sk-container-id-2 div.sk-text-repr-fallback {display: none;}</style><div id=\"sk-container-id-2\" class=\"sk-top-container\"><div class=\"sk-text-repr-fallback\"><pre>RandomForestClassifier()</pre><b>In a Jupyter environment, please rerun this cell to show the HTML representation or trust the notebook. <br />On GitHub, the HTML representation is unable to render, please try loading this page with nbviewer.org.</b></div><div class=\"sk-container\" hidden><div class=\"sk-item\"><div class=\"sk-estimator sk-toggleable\"><input class=\"sk-toggleable__control sk-hidden--visually\" id=\"sk-estimator-id-2\" type=\"checkbox\" checked><label for=\"sk-estimator-id-2\" class=\"sk-toggleable__label sk-toggleable__label-arrow\">RandomForestClassifier</label><div class=\"sk-toggleable__content\"><pre>RandomForestClassifier()</pre></div></div></div></div></div>"
      ],
      "text/plain": [
       "RandomForestClassifier()"
      ]
     },
     "execution_count": 26,
     "metadata": {},
     "output_type": "execute_result"
    }
   ],
   "source": [
    "rfc.fit(X_train_1,y_train)"
   ]
  },
  {
   "cell_type": "code",
   "execution_count": 27,
   "id": "c5f70467",
   "metadata": {
    "execution": {
     "iopub.execute_input": "2023-10-29T01:52:25.426594Z",
     "iopub.status.busy": "2023-10-29T01:52:25.426175Z",
     "iopub.status.idle": "2023-10-29T01:52:26.738399Z",
     "shell.execute_reply": "2023-10-29T01:52:26.737194Z",
     "shell.execute_reply.started": "2023-10-29T01:52:25.426562Z"
    },
    "papermill": {
     "duration": null,
     "end_time": null,
     "exception": null,
     "start_time": null,
     "status": "pending"
    },
    "tags": []
   },
   "outputs": [
    {
     "data": {
      "text/plain": [
       "0.99999375"
      ]
     },
     "execution_count": 27,
     "metadata": {},
     "output_type": "execute_result"
    }
   ],
   "source": [
    "rfc.score(X_val_1,y_val)"
   ]
  },
  {
   "cell_type": "code",
   "execution_count": 28,
   "id": "dbb4832d",
   "metadata": {
    "execution": {
     "iopub.execute_input": "2023-10-29T01:52:58.359370Z",
     "iopub.status.busy": "2023-10-29T01:52:58.358974Z",
     "iopub.status.idle": "2023-10-29T01:52:59.632010Z",
     "shell.execute_reply": "2023-10-29T01:52:59.631011Z",
     "shell.execute_reply.started": "2023-10-29T01:52:58.359340Z"
    },
    "papermill": {
     "duration": null,
     "end_time": null,
     "exception": null,
     "start_time": null,
     "status": "pending"
    },
    "tags": []
   },
   "outputs": [],
   "source": [
    "y_pred  = rfc.predict(X_val_1)"
   ]
  },
  {
   "cell_type": "code",
   "execution_count": 29,
   "id": "761bca2d",
   "metadata": {
    "execution": {
     "iopub.execute_input": "2023-10-29T01:53:10.599258Z",
     "iopub.status.busy": "2023-10-29T01:53:10.598851Z",
     "iopub.status.idle": "2023-10-29T01:53:10.804912Z",
     "shell.execute_reply": "2023-10-29T01:53:10.803591Z",
     "shell.execute_reply.started": "2023-10-29T01:53:10.599227Z"
    },
    "papermill": {
     "duration": null,
     "end_time": null,
     "exception": null,
     "start_time": null,
     "status": "pending"
    },
    "tags": []
   },
   "outputs": [
    {
     "name": "stdout",
     "output_type": "stream",
     "text": [
      "[[146117      0]\n",
      " [     1  13882]]\n"
     ]
    }
   ],
   "source": [
    "from sklearn.metrics import confusion_matrix\n",
    "\n",
    "# Create the confusion matrix\n",
    "cm = confusion_matrix(y_val, y_pred)\n",
    "\n",
    "# Print the confusion matrix\n",
    "print(cm)"
   ]
  },
  {
   "cell_type": "code",
   "execution_count": 30,
   "id": "d7b446dc",
   "metadata": {
    "execution": {
     "iopub.execute_input": "2023-10-29T02:05:02.751288Z",
     "iopub.status.busy": "2023-10-29T02:05:02.750464Z",
     "iopub.status.idle": "2023-10-29T02:05:02.767328Z",
     "shell.execute_reply": "2023-10-29T02:05:02.766231Z",
     "shell.execute_reply.started": "2023-10-29T02:05:02.751241Z"
    },
    "papermill": {
     "duration": null,
     "end_time": null,
     "exception": null,
     "start_time": null,
     "status": "pending"
    },
    "tags": []
   },
   "outputs": [],
   "source": [
    "X_test_1  = preprocessor.transform(X_test)"
   ]
  },
  {
   "cell_type": "code",
   "execution_count": 31,
   "id": "393de1bb",
   "metadata": {
    "execution": {
     "iopub.execute_input": "2023-10-29T02:05:39.645491Z",
     "iopub.status.busy": "2023-10-29T02:05:39.645096Z",
     "iopub.status.idle": "2023-10-29T02:05:41.245045Z",
     "shell.execute_reply": "2023-10-29T02:05:41.243793Z",
     "shell.execute_reply.started": "2023-10-29T02:05:39.645462Z"
    },
    "papermill": {
     "duration": null,
     "end_time": null,
     "exception": null,
     "start_time": null,
     "status": "pending"
    },
    "tags": []
   },
   "outputs": [
    {
     "data": {
      "text/plain": [
       "0.99999"
      ]
     },
     "execution_count": 31,
     "metadata": {},
     "output_type": "execute_result"
    }
   ],
   "source": [
    "rfc.score(X_test_1,y_test)"
   ]
  },
  {
   "cell_type": "code",
   "execution_count": 32,
   "id": "330a18e0",
   "metadata": {
    "execution": {
     "iopub.execute_input": "2023-10-29T02:08:13.159190Z",
     "iopub.status.busy": "2023-10-29T02:08:13.158702Z",
     "iopub.status.idle": "2023-10-29T02:08:13.164671Z",
     "shell.execute_reply": "2023-10-29T02:08:13.163626Z",
     "shell.execute_reply.started": "2023-10-29T02:08:13.159153Z"
    },
    "papermill": {
     "duration": null,
     "end_time": null,
     "exception": null,
     "start_time": null,
     "status": "pending"
    },
    "tags": []
   },
   "outputs": [],
   "source": [
    "import pickle as pkl"
   ]
  },
  {
   "cell_type": "code",
   "execution_count": 33,
   "id": "fa6c2ce4",
   "metadata": {
    "execution": {
     "iopub.execute_input": "2023-10-29T02:12:38.412594Z",
     "iopub.status.busy": "2023-10-29T02:12:38.412152Z",
     "iopub.status.idle": "2023-10-29T02:12:38.430484Z",
     "shell.execute_reply": "2023-10-29T02:12:38.429215Z",
     "shell.execute_reply.started": "2023-10-29T02:12:38.412559Z"
    },
    "papermill": {
     "duration": null,
     "end_time": null,
     "exception": null,
     "start_time": null,
     "status": "pending"
    },
    "tags": []
   },
   "outputs": [],
   "source": [
    "with open('rfc_model_credit_card_detection.pkl','wb') as file:\n",
    "    pkl.dump(rfc,file)"
   ]
  },
  {
   "cell_type": "code",
   "execution_count": null,
   "id": "3484fd6b",
   "metadata": {
    "papermill": {
     "duration": null,
     "end_time": null,
     "exception": null,
     "start_time": null,
     "status": "pending"
    },
    "tags": []
   },
   "outputs": [],
   "source": []
  }
 ],
 "metadata": {
  "kernelspec": {
   "display_name": "Python 3",
   "language": "python",
   "name": "python3"
  },
  "language_info": {
   "codemirror_mode": {
    "name": "ipython",
    "version": 3
   },
   "file_extension": ".py",
   "mimetype": "text/x-python",
   "name": "python",
   "nbconvert_exporter": "python",
   "pygments_lexer": "ipython3",
   "version": "3.8.10"
  },
  "papermill": {
   "default_parameters": {},
   "duration": 4.835385,
   "end_time": "2023-10-29T02:17:34.995788",
   "environment_variables": {},
   "exception": true,
   "input_path": "__notebook__.ipynb",
   "output_path": "__notebook__.ipynb",
   "parameters": {},
   "start_time": "2023-10-29T02:17:30.160403",
   "version": "2.4.0"
  }
 },
 "nbformat": 4,
 "nbformat_minor": 5
}
